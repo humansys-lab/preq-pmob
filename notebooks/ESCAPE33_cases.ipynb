{
    "cells": [
        {
            "cell_type": "code",
            "execution_count": 1,
            "metadata": {},
            "outputs": [],
            "source": [
                "import time\n",
                "\n",
                "from preq_pmob.equation import Equation\n",
                "from preq_pmob.model_builder import ModelBuilder"
            ]
        },
        {
            "cell_type": "code",
            "execution_count": 2,
            "metadata": {},
            "outputs": [],
            "source": [
                "def run_modeling(input_eqs, input_vars, output_vars):\n",
                "    print('Gradual method')\n",
                "    start = time.perf_counter()\n",
                "    builder_gradual = ModelBuilder(input_eqs, input_vars, output_vars, \"gradual\")\n",
                "    models_gradual = builder_gradual.build_models()\n",
                "    end = time.perf_counter()\n",
                "    time_gradual = end - start\n",
                "\n",
                "    print('Exhaustive method')\n",
                "    start = time.perf_counter()\n",
                "    builder_exhaustive = ModelBuilder(input_eqs, input_vars, output_vars, \"exhaustive\")\n",
                "    models_exhaustive = builder_exhaustive.build_models()\n",
                "    end = time.perf_counter()\n",
                "    time_exhaustive = end - start\n",
                "\n",
                "    print('############################')\n",
                "    print('# Result ###################')\n",
                "    print('############################')\n",
                "    print(f'Modeling from {len(input_eqs)} equations')\n",
                "    print(f'Number of models built by a gradual method is {len(models_gradual)}')\n",
                "    print(f\"Elapsed time (gradual): {time_gradual: .2e} s\")\n",
                "    print(f'Number of models built by an exhaustive method is {len(models_exhaustive)}')\n",
                "    print(f\"Elapsed time (exhaustive): {time_exhaustive: .2e} s\")\n",
                "\n",
                "    return models_gradual, models_exhaustive\n"
            ]
        },
        {
            "cell_type": "code",
            "execution_count": 3,
            "metadata": {},
            "outputs": [
                {
                    "name": "stdout",
                    "output_type": "stream",
                    "text": [
                        "Gradual method\n",
                        "Exhaustive method\n",
                        "############################\n",
                        "# Result ###################\n",
                        "############################\n",
                        "Modeling from 3 equations\n",
                        "Number of models built by a gradual method is 2\n",
                        "Elapsed time (gradual):  2.64e-05 s\n",
                        "Number of models built by an exhaustive method is 2\n",
                        "Elapsed time (exhaustive):  1.11e-05 s\n"
                    ]
                }
            ],
            "source": [
                "from typing import List, Dict, Set\n",
                "# Case 1\n",
                "input_eqs: List[Equation] = [\n",
                "    Equation(\"y = x1 + x2\", [\"y\", \"x1\", \"x2\"]),\n",
                "    Equation(\"x2 = 0.1\",    [\"x2\"]),\n",
                "    Equation(\"x2 = 1\",      [\"x2\"])\n",
                "]\n",
                "input_vars = {\"x1\"}\n",
                "output_vars = {\"y\"}\n",
                "\n",
                "models_gradual, models_exhaustive = run_modeling(input_eqs, input_vars, output_vars)"
            ]
        },
        {
            "cell_type": "code",
            "execution_count": 4,
            "metadata": {},
            "outputs": [
                {
                    "name": "stdout",
                    "output_type": "stream",
                    "text": [
                        "Gradual method\n",
                        "Exhaustive method\n",
                        "############################\n",
                        "# Result ###################\n",
                        "############################\n",
                        "Modeling from 23 equations\n",
                        "Number of models built by a gradual method is 2\n",
                        "Elapsed time (gradual):  3.12e-05 s\n",
                        "Number of models built by an exhaustive method is 2\n",
                        "Elapsed time (exhaustive):  1.29e+01 s\n"
                    ]
                }
            ],
            "source": [
                "# Case 2\n",
                "input_eqs: List[Equation] = [\n",
                "    Equation(\"y = x1 + x2\", [\"y\", \"x1\", \"x2\"]),\n",
                "    Equation(\"x2 = 0.1\",    [\"x2\"]),\n",
                "    Equation(\"x2 = 1\",      [\"x2\"]),\n",
                "    Equation(\"a1 = 1\",      [\"a1\"]),\n",
                "    Equation(\"a2 = 2\",      [\"a2\"]),\n",
                "    Equation(\"a3 = 3\",      [\"a3\"]),\n",
                "    Equation(\"a4 = 4\",      [\"a4\"]),\n",
                "    Equation(\"a5 = 5\",      [\"a5\"]),\n",
                "    Equation(\"a6 = 6\",      [\"a6\"]),\n",
                "    Equation(\"a7 = 7\",      [\"a7\"]),\n",
                "    Equation(\"a8 = 8\",      [\"a8\"]),\n",
                "    Equation(\"a9 = 9\",      [\"a9\"]),\n",
                "    Equation(\"a10 = 10\",    [\"a10\"]),\n",
                "    Equation(\"a11 = 11\",    [\"a11\"]),\n",
                "    Equation(\"a12 = 12\",    [\"a12\"]),\n",
                "    Equation(\"a13 = 13\",    [\"a13\"]),\n",
                "    Equation(\"a14 = 14\",    [\"a14\"]),\n",
                "    Equation(\"a15 = 15\",    [\"a15\"]),\n",
                "    Equation(\"a16 = 16\",    [\"a16\"]),\n",
                "    Equation(\"a17 = 17\",    [\"a17\"]),\n",
                "    Equation(\"a18 = 18\",    [\"a18\"]),\n",
                "    Equation(\"a19 = 19\",    [\"a19\"]),\n",
                "    Equation(\"a20 = 20\",    [\"a20\"])\n",
                "]\n",
                "input_vars = {\"x1\"}\n",
                "output_vars = {\"y\"}\n",
                "\n",
                "models_gradual, models_exhaustive = run_modeling(input_eqs, input_vars, output_vars)"
            ]
        },
        {
            "cell_type": "code",
            "execution_count": 5,
            "metadata": {},
            "outputs": [
                {
                    "name": "stdout",
                    "output_type": "stream",
                    "text": [
                        "Gradual method\n",
                        "Exhaustive method\n",
                        "############################\n",
                        "# Result ###################\n",
                        "############################\n",
                        "Modeling from 7 equations\n",
                        "Number of models built by a gradual method is 3\n",
                        "Elapsed time (gradual):  1.43e-04 s\n",
                        "Number of models built by an exhaustive method is 3\n",
                        "Elapsed time (exhaustive):  1.15e-04 s\n"
                    ]
                }
            ],
            "source": [
                "# Case 3\n",
                "input_eqs: List[Equation] = [\n",
                "    Equation(\"V * dCdt = v0 * CA0 - v0 * CA + rA * V\", [\"dCdt\", \"V\", \"v0\", \"CA0\", \"CA\", \"rA\"]),\n",
                "    Equation(\"- rA = k\", [\"rA\", \"k\"]),\n",
                "    Equation(\"- rA = k * CA\", [\"rA\", \"k\", \"CA\"]),\n",
                "    Equation(\"- rA = k * CA ^ 2\", [\"rA\", \"k\", \"CA\"]),\n",
                "    Equation(\"k = k0 * exp( a / T )\", [\"k\", \"k0\", \"a\", \"T\"]),\n",
                "    Equation(\"k0 = 0.1\", [\"k0\"]),\n",
                "    Equation(\"a = 10\", [\"a\"])\n",
                "]\n",
                "input_vars = {\"CA\", \"CA0\", \"T\", \"V\", \"v0\"}\n",
                "output_vars = {\"dCdt\"}\n",
                "\n",
                "models_gradual, models_exhaustive = run_modeling(input_eqs, input_vars, output_vars)"
            ]
        },
        {
            "cell_type": "code",
            "execution_count": 6,
            "metadata": {},
            "outputs": [
                {
                    "data": {
                        "text/plain": [
                            "[EquationGroup([- rA = k, V * dCdt = v0 * CA0 - v0 * CA + rA * V, a = 10, k = k0 * exp( a / T ), k0 = 0.1]),\n",
                            " EquationGroup([- rA = k * CA, V * dCdt = v0 * CA0 - v0 * CA + rA * V, a = 10, k = k0 * exp( a / T ), k0 = 0.1]),\n",
                            " EquationGroup([- rA = k * CA ^ 2, V * dCdt = v0 * CA0 - v0 * CA + rA * V, a = 10, k = k0 * exp( a / T ), k0 = 0.1])]"
                        ]
                    },
                    "execution_count": 6,
                    "metadata": {},
                    "output_type": "execute_result"
                }
            ],
            "source": [
                "models_gradual"
            ]
        },
        {
            "cell_type": "code",
            "execution_count": 7,
            "metadata": {},
            "outputs": [
                {
                    "data": {
                        "text/plain": [
                            "[EquationGroup([- rA = k, V * dCdt = v0 * CA0 - v0 * CA + rA * V, a = 10, k = k0 * exp( a / T ), k0 = 0.1]),\n",
                            " EquationGroup([- rA = k * CA, V * dCdt = v0 * CA0 - v0 * CA + rA * V, a = 10, k = k0 * exp( a / T ), k0 = 0.1]),\n",
                            " EquationGroup([- rA = k * CA ^ 2, V * dCdt = v0 * CA0 - v0 * CA + rA * V, a = 10, k = k0 * exp( a / T ), k0 = 0.1])]"
                        ]
                    },
                    "execution_count": 7,
                    "metadata": {},
                    "output_type": "execute_result"
                }
            ],
            "source": [
                "models_gradual"
            ]
        },
        {
            "cell_type": "code",
            "execution_count": 8,
            "metadata": {},
            "outputs": [
                {
                    "data": {
                        "text/plain": [
                            "{'CA', 'CA0', 'T', 'V', 'a', 'dCdt', 'k', 'k0', 'rA', 'v0'}"
                        ]
                    },
                    "execution_count": 8,
                    "metadata": {},
                    "output_type": "execute_result"
                }
            ],
            "source": [
                "models_gradual[0].get_all_variables()"
            ]
        },
        {
            "cell_type": "code",
            "execution_count": 13,
            "metadata": {},
            "outputs": [
                {
                    "name": "stdout",
                    "output_type": "stream",
                    "text": [
                        "Gradual method\n",
                        "Exhaustive method\n",
                        "############################\n",
                        "# Result ###################\n",
                        "############################\n",
                        "Modeling from 8 equations\n",
                        "Number of models built by a gradual method is 3\n",
                        "Elapsed time (gradual):  1.86e-04 s\n",
                        "Number of models built by an exhaustive method is 3\n",
                        "Elapsed time (exhaustive):  3.50e-04 s\n"
                    ]
                }
            ],
            "source": [
                "# Case 4\n",
                "input_eqs = [\n",
                "    Equation(\"V * dCdt = v0 * CA0 - v0 * CA + rA * V\", [\"dCdt\", \"V\", \"v0\", \"CA0\", \"CA\", \"rA\"]),\n",
                "    Equation(\"- rA = k\", [\"rA\", \"k\"]),\n",
                "    Equation(\"- rA = k * CA\", [\"rA\", \"k\", \"CA\"]),\n",
                "    # Equation(\"- rA = k * CA ^ 2\", [\"rA\", \"k\", \"CA\"]),\n",
                "    Equation(\"k = k0 * exp( a / T )\", [\"k\", \"k0\", \"a\", \"T\"]),\n",
                "    Equation(\"k0 = 0.1\", [\"k0\"]),\n",
                "    Equation(\"a = 10\", [\"a\"]),\n",
                "    Equation(\"Q = U * A * Tc - U * A * T\", [\"Q\", \"U\", \"A\", \"Tc\", \"T\"]),\n",
                "    Equation(\"V * rho * dTdt = w * C * Ti - w * C * T + Hr * V * rA + Q\",\n",
                "             [\"V\", \"rho\", \"dTdt\", \"w\", \"C\", \"Ti\", \"T\", \"Hr\", \"rA\", \"Q\"])\n",
                "]\n",
                "input_vars = {\"CA\", \"CA0\", \"T\", \"V\", \"v0\", \"U\", \"A\", \"rho\", \"w\", \"C\", \"Ti\", \"Tc\", \"Hr\"}\n",
                "output_vars = {\"dCdt\", \"dTdt\"}\n",
                "\n",
                "models_gradual, models_exhaustive = run_modeling(input_eqs, input_vars, output_vars)"
            ]
        },
        {
            "cell_type": "code",
            "execution_count": 14,
            "metadata": {},
            "outputs": [
                {
                    "data": {
                        "text/plain": [
                            "[EquationGroup([- rA = k, - rA = k * CA, Q = U * A * Tc - U * A * T, V * dCdt = v0 * CA0 - v0 * CA + rA * V, V * rho * dTdt = w * C * Ti - w * C * T + Hr * V * rA + Q]),\n",
                            " EquationGroup([- rA = k, Q = U * A * Tc - U * A * T, V * dCdt = v0 * CA0 - v0 * CA + rA * V, V * rho * dTdt = w * C * Ti - w * C * T + Hr * V * rA + Q, a = 10, k = k0 * exp( a / T ), k0 = 0.1]),\n",
                            " EquationGroup([- rA = k * CA, Q = U * A * Tc - U * A * T, V * dCdt = v0 * CA0 - v0 * CA + rA * V, V * rho * dTdt = w * C * Ti - w * C * T + Hr * V * rA + Q, a = 10, k = k0 * exp( a / T ), k0 = 0.1])]"
                        ]
                    },
                    "execution_count": 14,
                    "metadata": {},
                    "output_type": "execute_result"
                }
            ],
            "source": [
                "models_gradual"
            ]
        },
        {
            "cell_type": "code",
            "execution_count": null,
            "metadata": {},
            "outputs": [],
            "source": []
        }
    ],
    "metadata": {
        "kernelspec": {
            "display_name": "Python 3.8.13 64-bit ('automodeling')",
            "language": "python",
            "name": "python3"
        },
        "language_info": {
            "codemirror_mode": {
                "name": "ipython",
                "version": 3
            },
            "file_extension": ".py",
            "mimetype": "text/x-python",
            "name": "python",
            "nbconvert_exporter": "python",
            "pygments_lexer": "ipython3",
            "version": "3.10.15"
        },
        "vscode": {
            "interpreter": {
                "hash": "f5c18910acf6393f7873954b97e99b302a58350d2df74ecf5f766dd5a9857285"
            }
        }
    },
    "nbformat": 4,
    "nbformat_minor": 4
}
